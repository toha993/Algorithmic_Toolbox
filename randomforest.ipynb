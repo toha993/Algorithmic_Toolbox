{
  "nbformat": 4,
  "nbformat_minor": 0,
  "metadata": {
    "colab": {
      "name": "randomforest.ipynb",
      "provenance": [],
      "mount_file_id": "1euOYGq44icteRW0pJKHTnA5-33-6QAs5",
      "authorship_tag": "ABX9TyM5clHmCXp9RSi0QRgDgB1r",
      "include_colab_link": true
    },
    "kernelspec": {
      "name": "python3",
      "display_name": "Python 3"
    }
  },
  "cells": [
    {
      "cell_type": "markdown",
      "metadata": {
        "id": "view-in-github",
        "colab_type": "text"
      },
      "source": [
        "<a href=\"https://colab.research.google.com/github/toha993/Algorithmic_Toolbox/blob/master/randomforest.ipynb\" target=\"_parent\"><img src=\"https://colab.research.google.com/assets/colab-badge.svg\" alt=\"Open In Colab\"/></a>"
      ]
    },
    {
      "cell_type": "code",
      "metadata": {
        "id": "MiQnNKaooFNb"
      },
      "source": [
        "import glob\n",
        "import pandas as pd\n",
        "import numpy as np\n",
        "import os"
      ],
      "execution_count": 1,
      "outputs": []
    },
    {
      "cell_type": "code",
      "metadata": {
        "id": "nC0N9m1loSFP"
      },
      "source": [
        "\n",
        "from sklearn.naive_bayes import MultinomialNB\n",
        "from sklearn.feature_extraction.text import CountVectorizer\n",
        "from sklearn.model_selection import train_test_split\n",
        "from sklearn.metrics import accuracy_score\n",
        "import time\n",
        "import re \n",
        "\n",
        "from sklearn.pipeline import Pipeline\n",
        "from sklearn.feature_extraction.text import TfidfTransformer\n",
        "from sklearn.metrics import confusion_matrix\n",
        "import joblib"
      ],
      "execution_count": 2,
      "outputs": []
    },
    {
      "cell_type": "code",
      "metadata": {
        "colab": {
          "base_uri": "https://localhost:8080/"
        },
        "id": "U6cj5KvIoU4O",
        "outputId": "db501099-d3f6-44ab-c360-8cc232e9da70"
      },
      "source": [
        "from google.colab import drive\n",
        "drive.mount('/content/drive')"
      ],
      "execution_count": 3,
      "outputs": [
        {
          "output_type": "stream",
          "text": [
            "Drive already mounted at /content/drive; to attempt to forcibly remount, call drive.mount(\"/content/drive\", force_remount=True).\n"
          ],
          "name": "stdout"
        }
      ]
    },
    {
      "cell_type": "code",
      "metadata": {
        "id": "NRiE1d3Iop5S"
      },
      "source": [
        "path = \"/content/drive/MyDrive/songData/*.xlsx\"\n",
        "all_file = glob.glob(path)"
      ],
      "execution_count": 6,
      "outputs": []
    },
    {
      "cell_type": "code",
      "metadata": {
        "colab": {
          "base_uri": "https://localhost:8080/"
        },
        "id": "D7cOjskdotSU",
        "outputId": "1b6d4e22-854d-4a43-f4dc-0f1033cd2a92"
      },
      "source": [
        "all_file"
      ],
      "execution_count": 7,
      "outputs": [
        {
          "output_type": "execute_result",
          "data": {
            "text/plain": [
              "['/content/drive/MyDrive/songData/songType0.xlsx',\n",
              " '/content/drive/MyDrive/songData/songType1.xlsx',\n",
              " '/content/drive/MyDrive/songData/songType2.xlsx',\n",
              " '/content/drive/MyDrive/songData/songType10.xlsx',\n",
              " '/content/drive/MyDrive/songData/songType12.xlsx',\n",
              " '/content/drive/MyDrive/songData/songType8.xlsx',\n",
              " '/content/drive/MyDrive/songData/songType13.xlsx',\n",
              " '/content/drive/MyDrive/songData/songType15.xlsx',\n",
              " '/content/drive/MyDrive/songData/songType7.xlsx',\n",
              " '/content/drive/MyDrive/songData/songType14.xlsx',\n",
              " '/content/drive/MyDrive/songData/songType5.xlsx',\n",
              " '/content/drive/MyDrive/songData/songType16.xlsx',\n",
              " '/content/drive/MyDrive/songData/songType3.xlsx',\n",
              " '/content/drive/MyDrive/songData/songType4.xlsx',\n",
              " '/content/drive/MyDrive/songData/songType6.xlsx',\n",
              " '/content/drive/MyDrive/songData/songType9.xlsx',\n",
              " '/content/drive/MyDrive/songData/songType11.xlsx',\n",
              " '/content/drive/MyDrive/songData/songType20.xlsx',\n",
              " '/content/drive/MyDrive/songData/songType17.xlsx',\n",
              " '/content/drive/MyDrive/songData/songType18.xlsx',\n",
              " '/content/drive/MyDrive/songData/songType19.xlsx']"
            ]
          },
          "metadata": {
            "tags": []
          },
          "execution_count": 7
        }
      ]
    },
    {
      "cell_type": "code",
      "metadata": {
        "id": "Ag-nzNggo1Xh"
      },
      "source": [
        "names = []\n",
        "count = []\n",
        "clusters = []\n",
        "data = []\n",
        "\n",
        "for each in all_file:\n",
        "    temp = pd.read_excel(each)\n",
        "    \n",
        "    \n",
        "    count.append(len(temp))\n",
        "    names.append(each.split('/')[1][:-5])\n",
        "    clusters.append(temp['songType'])\n",
        "    \n",
        "    \n",
        "    data.append(temp)\n",
        "    \n",
        "cluster_ids =clusters"
      ],
      "execution_count": 8,
      "outputs": []
    },
    {
      "cell_type": "code",
      "metadata": {
        "colab": {
          "base_uri": "https://localhost:8080/",
          "height": 419
        },
        "id": "GImW5X_Jo4U_",
        "outputId": "3ac4c21a-ab7b-4322-b861-faff111d92ed"
      },
      "source": [
        "data = pd.concat(data)\n",
        "data = data.sample(frac = 1)\n",
        "\n",
        "data"
      ],
      "execution_count": 9,
      "outputs": [
        {
          "output_type": "execute_result",
          "data": {
            "text/html": [
              "<div>\n",
              "<style scoped>\n",
              "    .dataframe tbody tr th:only-of-type {\n",
              "        vertical-align: middle;\n",
              "    }\n",
              "\n",
              "    .dataframe tbody tr th {\n",
              "        vertical-align: top;\n",
              "    }\n",
              "\n",
              "    .dataframe thead th {\n",
              "        text-align: right;\n",
              "    }\n",
              "</style>\n",
              "<table border=\"1\" class=\"dataframe\">\n",
              "  <thead>\n",
              "    <tr style=\"text-align: right;\">\n",
              "      <th></th>\n",
              "      <th>Unnamed: 0</th>\n",
              "      <th>lyrics</th>\n",
              "      <th>songType</th>\n",
              "    </tr>\n",
              "  </thead>\n",
              "  <tbody>\n",
              "    <tr>\n",
              "      <th>78</th>\n",
              "      <td>1215</td>\n",
              "      <td>আজ   প্রথম ফুলের পাব প্রসাদখানি,   তাই   ভোরে ...</td>\n",
              "      <td>17</td>\n",
              "    </tr>\n",
              "    <tr>\n",
              "      <th>105</th>\n",
              "      <td>554</td>\n",
              "      <td>তুমি আমার ছায়া ঢাকা পাখি ডানা গ্রাম তুমি আমার...</td>\n",
              "      <td>1</td>\n",
              "    </tr>\n",
              "    <tr>\n",
              "      <th>166</th>\n",
              "      <td>675</td>\n",
              "      <td>আজ চঞ্চল মন যদি মৌমাছি হয়ে চায় ক্ষতি কি ? গুণ ...</td>\n",
              "      <td>3</td>\n",
              "    </tr>\n",
              "    <tr>\n",
              "      <th>369</th>\n",
              "      <td>2278</td>\n",
              "      <td>এসো ওয়াদা করি তুমি আমি দু’জনে ভালোবাসা জেগে র...</td>\n",
              "      <td>3</td>\n",
              "    </tr>\n",
              "    <tr>\n",
              "      <th>170</th>\n",
              "      <td>1333</td>\n",
              "      <td>মিষ্টি মেয়ে , চোখটি তোলো প্রথম তোমার সাথে দেখা...</td>\n",
              "      <td>13</td>\n",
              "    </tr>\n",
              "    <tr>\n",
              "      <th>...</th>\n",
              "      <td>...</td>\n",
              "      <td>...</td>\n",
              "      <td>...</td>\n",
              "    </tr>\n",
              "    <tr>\n",
              "      <th>38</th>\n",
              "      <td>366</td>\n",
              "      <td>আমার আপনার চেয়ে আপন যে জন খুঁজি তারে আমি আপনায়...</td>\n",
              "      <td>7</td>\n",
              "    </tr>\n",
              "    <tr>\n",
              "      <th>524</th>\n",
              "      <td>2392</td>\n",
              "      <td>যা যা ফেরারী মন ছেড়ে স্মৃতির কোন সব পাখি উড়েযা...</td>\n",
              "      <td>1</td>\n",
              "    </tr>\n",
              "    <tr>\n",
              "      <th>622</th>\n",
              "      <td>2651</td>\n",
              "      <td>(এই ঠাকুর পো, এই সব কী করে বেড়াচ্ছো দাঁড়াও, আজ...</td>\n",
              "      <td>1</td>\n",
              "    </tr>\n",
              "    <tr>\n",
              "      <th>501</th>\n",
              "      <td>2829</td>\n",
              "      <td>আকাশ নীলা তুমি বল কিভাবে আমার শূণ্য মনে সুখ ছড়...</td>\n",
              "      <td>13</td>\n",
              "    </tr>\n",
              "    <tr>\n",
              "      <th>53</th>\n",
              "      <td>1188</td>\n",
              "      <td>শীতের হাওয়ার লাগল নাচন আম্‌লকির এই ডালে ডালে। ...</td>\n",
              "      <td>17</td>\n",
              "    </tr>\n",
              "  </tbody>\n",
              "</table>\n",
              "<p>4105 rows × 3 columns</p>\n",
              "</div>"
            ],
            "text/plain": [
              "     Unnamed: 0                                             lyrics  songType\n",
              "78         1215  আজ   প্রথম ফুলের পাব প্রসাদখানি,   তাই   ভোরে ...        17\n",
              "105         554  তুমি আমার ছায়া ঢাকা পাখি ডানা গ্রাম তুমি আমার...         1\n",
              "166         675  আজ চঞ্চল মন যদি মৌমাছি হয়ে চায় ক্ষতি কি ? গুণ ...         3\n",
              "369        2278  এসো ওয়াদা করি তুমি আমি দু’জনে ভালোবাসা জেগে র...         3\n",
              "170        1333  মিষ্টি মেয়ে , চোখটি তোলো প্রথম তোমার সাথে দেখা...        13\n",
              "..          ...                                                ...       ...\n",
              "38          366  আমার আপনার চেয়ে আপন যে জন খুঁজি তারে আমি আপনায়...         7\n",
              "524        2392  যা যা ফেরারী মন ছেড়ে স্মৃতির কোন সব পাখি উড়েযা...         1\n",
              "622        2651  (এই ঠাকুর পো, এই সব কী করে বেড়াচ্ছো দাঁড়াও, আজ...         1\n",
              "501        2829  আকাশ নীলা তুমি বল কিভাবে আমার শূণ্য মনে সুখ ছড়...        13\n",
              "53         1188  শীতের হাওয়ার লাগল নাচন আম্‌লকির এই ডালে ডালে। ...        17\n",
              "\n",
              "[4105 rows x 3 columns]"
            ]
          },
          "metadata": {
            "tags": []
          },
          "execution_count": 9
        }
      ]
    },
    {
      "cell_type": "code",
      "metadata": {
        "id": "qY86KHo5pEyc"
      },
      "source": [
        "stop_words = [ 'হাই', 'ফ্রিকুয়েন্সি', 'কিন্তু', 'অপ্রয়োজনীয়', 'শব্দ' ]"
      ],
      "execution_count": 10,
      "outputs": []
    },
    {
      "cell_type": "code",
      "metadata": {
        "id": "37-3Nh10pIv6"
      },
      "source": [
        "data['lyrics'] = data['lyrics'].apply(lambda x: ' '.join([word for word in x.split() if word not in (stop_words)]))"
      ],
      "execution_count": 11,
      "outputs": []
    },
    {
      "cell_type": "code",
      "metadata": {
        "id": "YiO33_gXpLYg"
      },
      "source": [
        "X_train, X_test, y_train, y_test =  train_test_split(data['lyrics'], data['songType'], test_size=0.33, random_state=42 )"
      ],
      "execution_count": 12,
      "outputs": []
    },
    {
      "cell_type": "code",
      "metadata": {
        "colab": {
          "base_uri": "https://localhost:8080/"
        },
        "id": "mCfxf1y7scGD",
        "outputId": "5f6e0c19-d3ed-4c49-f4dc-5328e6ef5336"
      },
      "source": [
        "from sklearn.model_selection import ShuffleSplit\n",
        "from sklearn.model_selection import cross_val_score\n",
        "from sklearn import metrics\n",
        "\n",
        "total_data_count = len(data)\n",
        "per_class_counts = []\n",
        "unique_classes = np.unique(data['songType'].values)\n",
        "class_count_mean = np.mean(count)\n",
        "\n",
        "###########################3\n",
        "############### classifier setup ################\n",
        "\n",
        "from sklearn.ensemble import  RandomForestClassifier\n",
        "text_clf_svm = Pipeline([\n",
        "    \n",
        "    ('vect', CountVectorizer(\n",
        "                            analyzer=\"word\", \n",
        "                            lowercase=False,\n",
        "                            token_pattern=\"[\\S]*\",\n",
        "                            tokenizer=None,\n",
        "                            ngram_range=(1, 3),\n",
        "                            preprocessor=None)),                 \n",
        "    ('tfidf', TfidfTransformer()),\n",
        "    ('clf-svm',RandomForestClassifier()),\n",
        "                                                                        \n",
        "])\n",
        "classifier = text_clf_svm.fit(list(X_train), list(y_train))\n",
        "\n",
        "\n",
        "cv = ShuffleSplit(n_splits=5, test_size=0.3, random_state=0)\n",
        "score = cross_val_score(text_clf_svm, list(X_train), list(y_train), cv=cv)\n",
        "\n",
        "print(\"Cross Accuracy: %0.2f (+/- %0.2f)\" % (score.mean(), score.std() * 2))\n",
        "\n",
        "\n",
        "predicted = classifier.predict(X_test)"
      ],
      "execution_count": 25,
      "outputs": [
        {
          "output_type": "stream",
          "text": [
            "Cross Accuracy: 0.47 (+/- 0.03)\n"
          ],
          "name": "stdout"
        }
      ]
    },
    {
      "cell_type": "code",
      "metadata": {
        "colab": {
          "base_uri": "https://localhost:8080/"
        },
        "id": "UyIVohvVqy9R",
        "outputId": "d0877b7e-0979-4375-d17a-73ce0fa1d38f"
      },
      "source": [
        "print(\"Cross Accuracy: %0.2f (+/- %0.2f)\" % (score.mean(), score.std() * 2))\n",
        "print(metrics.classification_report(y_test, predicted))"
      ],
      "execution_count": 26,
      "outputs": [
        {
          "output_type": "stream",
          "text": [
            "Cross Accuracy: 0.47 (+/- 0.03)\n",
            "              precision    recall  f1-score   support\n",
            "\n",
            "           0       0.00      0.00      0.00         2\n",
            "           1       0.35      0.84      0.50       336\n",
            "           2       0.00      0.00      0.00         4\n",
            "           3       0.44      0.28      0.34       244\n",
            "           4       0.00      0.00      0.00         2\n",
            "           5       0.00      0.00      0.00        17\n",
            "           6       0.00      0.00      0.00        29\n",
            "           7       1.00      0.10      0.18        70\n",
            "           8       0.00      0.00      0.00         4\n",
            "           9       0.00      0.00      0.00        20\n",
            "          10       0.00      0.00      0.00        15\n",
            "          11       0.00      0.00      0.00        17\n",
            "          12       0.00      0.00      0.00        39\n",
            "          13       0.70      0.17      0.27       253\n",
            "          14       1.00      0.09      0.16        23\n",
            "          15       0.00      0.00      0.00         2\n",
            "          16       0.00      0.00      0.00         2\n",
            "          17       0.71      0.89      0.79       255\n",
            "          18       1.00      0.33      0.50         3\n",
            "          19       1.00      0.12      0.22        16\n",
            "          20       0.00      0.00      0.00         2\n",
            "\n",
            "    accuracy                           0.47      1355\n",
            "   macro avg       0.30      0.13      0.14      1355\n",
            "weighted avg       0.51      0.47      0.40      1355\n",
            "\n"
          ],
          "name": "stdout"
        },
        {
          "output_type": "stream",
          "text": [
            "/usr/local/lib/python3.6/dist-packages/sklearn/metrics/_classification.py:1272: UndefinedMetricWarning: Precision and F-score are ill-defined and being set to 0.0 in labels with no predicted samples. Use `zero_division` parameter to control this behavior.\n",
            "  _warn_prf(average, modifier, msg_start, len(result))\n"
          ],
          "name": "stderr"
        }
      ]
    },
    {
      "cell_type": "code",
      "metadata": {
        "id": "uNwH-__3par0"
      },
      "source": [
        "import pandas as pd\n",
        "confusion_matrix = list(metrics.confusion_matrix(y_test, predicted))"
      ],
      "execution_count": 27,
      "outputs": []
    },
    {
      "cell_type": "code",
      "metadata": {
        "colab": {
          "base_uri": "https://localhost:8080/",
          "height": 609
        },
        "id": "ywinTfdRpbxb",
        "outputId": "ebbeeea1-390a-47eb-e0eb-5ad2fdbe54f8"
      },
      "source": [
        "import seaborn as sn\n",
        "import pandas as pd\n",
        "import matplotlib.pyplot as plt\n",
        "array = confusion_matrix\n",
        "df_cm = pd.DataFrame(array, index = [i for i in names],\n",
        "              columns = [i for i in names])\n",
        "df_norm_col=(df_cm-df_cm.mean())/df_cm.std()\n",
        "#df_norm_col=df_cm-df_cm.mean()\n",
        "plt.figure(figsize = (15,10))\n",
        "sn.heatmap(df_norm_col, annot=True,cmap='viridis')"
      ],
      "execution_count": 28,
      "outputs": [
        {
          "output_type": "execute_result",
          "data": {
            "text/plain": [
              "<matplotlib.axes._subplots.AxesSubplot at 0x7f505b3d49b0>"
            ]
          },
          "metadata": {
            "tags": []
          },
          "execution_count": 28
        },
        {
          "output_type": "display_data",
          "data": {
            "image/png": "[encoded data removed]",
            "text/plain": [
              "<Figure size 1080x720 with 2 Axes>"
            ]
          },
          "metadata": {
            "tags": [],
            "needs_background": "light"
          }
        }
      ]
    }
  ]
}